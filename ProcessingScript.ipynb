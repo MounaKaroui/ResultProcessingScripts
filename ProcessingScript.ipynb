{
 "cells": [
  {
   "cell_type": "code",
   "execution_count": 904,
   "metadata": {
    "hideCode": false,
    "hidePrompt": false
   },
   "outputs": [],
   "source": [
    "import numpy as np\n",
    "import pandas as pd\n",
    "import matplotlib\n",
    "import matplotlib.pyplot as plt\n",
    "import matplotlib.patches as patches\n",
    "from matplotlib import rc\n",
    "from numpy import linalg as LA\n",
    "import csv\n",
    "import sqlite3\n",
    "from sqlite3 import Error\n",
    "from pandas import DataFrame\n",
    "from statistics import mean \n",
    "from scipy.stats import sem\n",
    "from scipy.stats import t\n",
    "import re\n",
    "from matplotlib.pyplot import text\n",
    "import statistics\n",
    "import math"
   ]
  },
  {
   "cell_type": "code",
   "execution_count": 905,
   "metadata": {},
   "outputs": [],
   "source": [
    "def mean_confidence_interval(data, confidence=0.95):\n",
    "    a = 1.0 * np.array(data)\n",
    "    n = len(a)\n",
    "    m, se = np.mean(a), sem(a)\n",
    "    h = se * t.ppf((1 + confidence) / 2., n-1)\n",
    "    return m, m-h, m+h"
   ]
  },
  {
   "cell_type": "code",
   "execution_count": 906,
   "metadata": {},
   "outputs": [],
   "source": [
    "def confidence_interval(data, confidence=0.95):\n",
    "    a = 1.0 * np.array(data)\n",
    "    n = len(a)\n",
    "    m, se = np.mean(a), sem(a)\n",
    "    h = se * t.ppf((1 + confidence) / 2., n-1)\n",
    "    return h"
   ]
  },
  {
   "cell_type": "code",
   "execution_count": 907,
   "metadata": {},
   "outputs": [],
   "source": [
    "def autolabel(rects,ax, xpos='center'):\n",
    "    \"\"\"\n",
    "    Attach a text label above each bar in *rects*, displaying its height.\n",
    "\n",
    "    *xpos* indicates which side to place the text w.r.t. the center of\n",
    "    the bar. It can be one of the following {'center', 'right', 'left'}.\n",
    "    \"\"\"\n",
    "    ha = {'center': 'center', 'right': 'left', 'left': 'right'}\n",
    "    offset = {'center': 0, 'right': 1, 'left': -1}\n",
    "\n",
    "    for rect in rects:\n",
    "        height = round(rect.get_height(),2)\n",
    "        ax.annotate('{}'.format(height),\n",
    "                    xy=(rect.get_x() + rect.get_width() / 2, height),\n",
    "                    xytext=(offset[xpos]*3, 3),  # use 3 points offset\n",
    "                    textcoords=\"offset points\",  # in both directions\n",
    "                    ha=ha[xpos], va='bottom')"
   ]
  },
  {
   "cell_type": "code",
   "execution_count": 908,
   "metadata": {
    "hideCode": false,
    "hidePrompt": false
   },
   "outputs": [],
   "source": [
    "def create_connection(db_file):\n",
    "    try:\n",
    "        conn = sqlite3.connect(db_file)\n",
    "        return conn\n",
    "    except Error as e:\n",
    "        print(e)\n",
    "    return None"
   ]
  },
  {
   "cell_type": "code",
   "execution_count": 909,
   "metadata": {
    "hideCode": false,
    "hidePrompt": false
   },
   "outputs": [],
   "source": [
    "def selectMeanThroughput(conn,ModuleName):\n",
    "    df=pd.read_sql_query(\"SELECT avg(v.scalarValue) th FROM scalar v where v.scalarName='throughput:mean' and  v.scalarValue NOT NULL  and v.moduleName like ('%' || ? || '%')\",conn,params=(ModuleName,))\n",
    "    return df"
   ]
  },
  {
   "cell_type": "code",
   "execution_count": 910,
   "metadata": {},
   "outputs": [],
   "source": [
    "def selectThroughputFromVec(conn,ModuleName):\n",
    "    df=pd.read_sql_query(\"SELECT v.moduleName nodeId,vd.simTimeRaw*0.000000000001 time, vd.value th FROM vector v INNER JOIN vectordata vd ON vd.vectorId=v.vectorId and v.vectorName='throughput:vector' and v.moduleName like ('%' || ? || '%') where time > 10.0\",conn,params=(ModuleName,))\n",
    "    return df"
   ]
  },
  {
   "cell_type": "code",
   "execution_count": 911,
   "metadata": {},
   "outputs": [],
   "source": [
    "def selectDecisionFromVec(conn,ModuleName):\n",
    "    df=pd.read_sql_query(\"SELECT v.moduleName nodeId,vd.simTimeRaw*0.000000000001 time, vd.value decision FROM vector v INNER JOIN vectordata vd ON vd.vectorId=v.vectorId and v.vectorName='decision:vector' and v.moduleName like ('%' || ? || '%') where time > 10.0\",conn,params=(ModuleName,))\n",
    "    return df"
   ]
  },
  {
   "cell_type": "code",
   "execution_count": 912,
   "metadata": {},
   "outputs": [],
   "source": [
    "def getDecisionFromVec(path, ModuleName):\n",
    "    conex=create_connection(path)\n",
    "    decision=selectDecisionFromVec(conex,ModuleName)\n",
    "    return decision"
   ]
  },
  {
   "cell_type": "code",
   "execution_count": 913,
   "metadata": {},
   "outputs": [],
   "source": [
    "def getThroughputFromVec(path,ModuleName):\n",
    "    conex=create_connection(path)\n",
    "    throughput=selectThroughputFromVec(conex,ModuleName)\n",
    "    return throughput"
   ]
  },
  {
   "cell_type": "code",
   "execution_count": 914,
   "metadata": {},
   "outputs": [],
   "source": [
    "def setPlotSettings(ax,xlabel,ylabel):\n",
    "    ax.set_xlabel(xlabel)\n",
    "    ax.set_ylabel(ylabel)\n",
    "    ax.legend(loc='upper center', bbox_to_anchor=(0.5,-0.25),fancybox=True, shadow=True, ncol=3)\n",
    "    plt.show"
   ]
  },
  {
   "cell_type": "markdown",
   "metadata": {},
   "source": [
    "###  Decider Test"
   ]
  },
  {
   "cell_type": "code",
   "execution_count": 915,
   "metadata": {
    "hideCode": false,
    "hidePrompt": false
   },
   "outputs": [],
   "source": [
    "resPath='/home/mouna1/myGitDepot/HeteroSIM/HeteroSIM/simulations/results/'\n",
    "configName='deciderTest'\n",
    "pathToResult=resPath+configName+'-0.vec'\n",
    "thCar0=getThroughputFromVec(pathToResult,\".car[0].applLayer[0]\")\n",
    "thCar1=getThroughputFromVec(pathToResult,\".car[1].applLayer[0]\")\n",
    "thCar2=getThroughputFromVec(pathToResult,\".car[2].applLayer[0]\")\n",
    "decision=getDecisionFromVec(pathToResult, \".car[2].decisionMaker\")"
   ]
  },
  {
   "cell_type": "code",
   "execution_count": 916,
   "metadata": {},
   "outputs": [
    {
     "data": {
      "image/png": "[encoded data removed]",
      "text/plain": [
       "<Figure size 720x432 with 2 Axes>"
      ]
     },
     "metadata": {},
     "output_type": "display_data"
    }
   ],
   "source": [
    "fig, (ax1,ax2) = plt.subplots(2,1,figsize=(10,6))\n",
    "# marker='.'\n",
    "ax1.plot(thCar0['time'],thCar0['th'],label=\"car without decision (802.11p)\")\n",
    "#ax1.plot(thCar1['time'],thCar1['th'],label=\"car without decision (Lte)\")\n",
    "ax1.plot(thCar2['time'],thCar2['th'],label=\"car with decision\")\n",
    "setPlotSettings(ax1,\"Time (s)\",\"Throughput (Mbps)\")\n",
    "ax2.plot(decision['time'],decision['decision'],label=\"Decision\",color='g')\n",
    "setPlotSettings(ax2,\"Decision\",\"Time(s)\")\n",
    "plt.subplots_adjust(hspace=0.6)\n",
    "plt.show()"
   ]
  }
 ],
 "metadata": {
  "hide_code_all_hidden": false,
  "kernelspec": {
   "display_name": "Python 3",
   "language": "python",
   "name": "python3"
  },
  "language_info": {
   "codemirror_mode": {
    "name": "ipython",
    "version": 3
   },
   "file_extension": ".py",
   "mimetype": "text/x-python",
   "name": "python",
   "nbconvert_exporter": "python",
   "pygments_lexer": "ipython3",
   "version": "3.6.7"
  }
 },
 "nbformat": 4,
 "nbformat_minor": 2
}
